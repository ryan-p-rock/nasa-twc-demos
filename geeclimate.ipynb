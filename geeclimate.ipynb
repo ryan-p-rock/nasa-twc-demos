{
  "nbformat": 4,
  "nbformat_minor": 0,
  "metadata": {
    "colab": {
      "name": "geeclimate.ipynb",
      "provenance": []
    },
    "kernelspec": {
      "name": "python3",
      "display_name": "Python 3"
    },
    "language_info": {
      "name": "python"
    }
  },
  "cells": [
    {
      "cell_type": "markdown",
      "source": [
        "# Google Earth Engine - Climate data access\n",
        "\n",
        "There are multiple climate datasets avaialble in the Google Earth Engine (GEE) data catalog. In this example, we will look at two of these datasets, both of which are produced by NASA. You can visit https://developers.google.com/earth-engine/datasets/tags/climate to check out other datasets in the catalog that are tagged \"climate\".\n",
        "\n",
        "This tutorial will walk users through accessing GEE data via the Python API, aggregating the raw data to a different temporal resolution, displaying data via maps/charts, and exporting data from GEE to be used locally.\n",
        "\n",
        "The code used in the tutorial is also available in javascript via the code editor:\n",
        "\n",
        "*   NLDAS-2 Script -- https://code.earthengine.google.com/a0313d92d3dd8c01426af856b61c604f?noload=true\n",
        "*   DAYMET Script -- https://code.earthengine.google.com/403bac7e0ba61e24d0dfedcf5f0d52b3?noload=true\n",
        "\n"
      ],
      "metadata": {
        "id": "qbyL3E5ieB0X"
      }
    },
    {
      "cell_type": "markdown",
      "source": [
        "## Import and authenticate Google Earth Engine\n",
        "\n",
        "Google Earth Engine in Colab depends on the Earth Engine Pyton API. This is installed already with Colab, so all we need to do is import and authenticate to get started. After running the ee.Initialize() command you will need to follow the prompts to verify your GEE account."
      ],
      "metadata": {
        "id": "MSJxigW72qew"
      }
    },
    {
      "cell_type": "code",
      "source": [
        "import ee"
      ],
      "metadata": {
        "id": "WvJ6ZCmsel7P"
      },
      "execution_count": null,
      "outputs": []
    },
    {
      "cell_type": "code",
      "metadata": {
        "id": "NMp9Ei9b0XXL",
        "colab": {
          "base_uri": "https://localhost:8080/"
        },
        "outputId": "77018347-1c56-4e12-ab0c-3377de0462e6"
      },
      "source": [
        "# Trigger the authentication flow.\n",
        "ee.Authenticate()\n",
        "\n",
        "# Initialize the library.\n",
        "ee.Initialize()"
      ],
      "execution_count": null,
      "outputs": [
        {
          "output_type": "stream",
          "name": "stdout",
          "text": [
            "To authorize access needed by Earth Engine, open the following URL in a web browser and follow the instructions. If the web browser does not start automatically, please manually browse the URL below.\n",
            "\n",
            "    https://accounts.google.com/o/oauth2/auth?client_id=517222506229-vsmmajv00ul0bs7p89v5m89qs8eb9359.apps.googleusercontent.com&scope=https%3A%2F%2Fwww.googleapis.com%2Fauth%2Fearthengine+https%3A%2F%2Fwww.googleapis.com%2Fauth%2Fdevstorage.full_control&redirect_uri=urn%3Aietf%3Awg%3Aoauth%3A2.0%3Aoob&response_type=code&code_challenge=kP6Q8FWsDOT-xF9dlLGxgOWGsvUH2y2DjJqMJu-RjlI&code_challenge_method=S256\n",
            "\n",
            "The authorization workflow will generate a code, which you should paste in the box below. \n",
            "Enter verification code: 4/1AX4XfWhsnELuJGDh0lBzh_fGTZY7Ly2sQ7vU954mYzxqcQPXMtNazorujp0\n",
            "\n",
            "Successfully saved authorization token.\n"
          ]
        }
      ]
    },
    {
      "cell_type": "markdown",
      "source": [
        "## NASA Climate Data in Google Earth Engine\n",
        "\n",
        "\n",
        "### NLDAS-2\n",
        "The first dataset we will explore is the North American Land Data Assimilation System Forcing Fields (NLDAS-2). The NLDAS-2 contains a variety of hourly variables at a ~14km spatial resolution from 1979 - present. See the full dataset description here: https://developers.google.com/earth-engine/datasets/catalog/NASA_NLDAS_FORA0125_H002\n",
        "\n",
        "### DAYMET\n",
        "The second dataset we will use in this notebook is the Daily Surface Weather and Climatological Summaries (DAYMET). From 1980 - 2020, DAYMET contains daily summaries of climate variables at a 1000m spatial resolution. https://developers.google.com/earth-engine/datasets/catalog/NASA_ORNL_DAYMET_V4"
      ],
      "metadata": {
        "id": "1rtJ4lw73fZF"
      }
    },
    {
      "cell_type": "markdown",
      "source": [
        "### NLDAS-2 data -- hourly to daily\n",
        "\n",
        "In this example, we will take the raw hourly data and aggregate it for each day. To start, we point to the data in GEE. It is useful to print the names of the bands in the NLDAS-2 image collection so we know which variables are available. Anytime you want to print something from GEE, you need to use getInfo(), which essentially retrieves the object from the GEE server (server-side) and brings it to this notebook (client-side) in a format that can be interpreted."
      ],
      "metadata": {
        "id": "N0Lc7yqn51YJ"
      }
    },
    {
      "cell_type": "code",
      "source": [
        "# point to the NLDAS-2 image collection in GEE\n",
        "nldas = ee.ImageCollection('NASA/NLDAS/FORA0125_H002')\n",
        "\n",
        "# create a list of the bandnames in the first image in the collection\n",
        "bn = nldas.first().bandNames()\n",
        "\n",
        "# use getInfo() to pull the list of bandnames from the GEE backend to our notebook\n",
        "bn.getInfo()"
      ],
      "metadata": {
        "id": "B2Ls48nse7Pt",
        "colab": {
          "base_uri": "https://localhost:8080/"
        },
        "outputId": "1b587087-b998-43d7-af86-833f55ec6896"
      },
      "execution_count": null,
      "outputs": [
        {
          "output_type": "execute_result",
          "data": {
            "text/plain": [
              "['temperature',\n",
              " 'specific_humidity',\n",
              " 'pressure',\n",
              " 'wind_u',\n",
              " 'wind_v',\n",
              " 'longwave_radiation',\n",
              " 'convective_fraction',\n",
              " 'potential_energy',\n",
              " 'potential_evaporation',\n",
              " 'total_precipitation',\n",
              " 'shortwave_radiation']"
            ]
          },
          "metadata": {},
          "execution_count": 3
        }
      ]
    },
    {
      "cell_type": "markdown",
      "source": [
        "In order to aggregate the NLDAS-2, we need to define a range of dates for which we want to compile daily data. We then need to turn that range into a list so that we can map a function over that list to get daily images for the climate variable of interest.\n",
        "\n",
        "In this case, we will use the month of May 2017 as our time range."
      ],
      "metadata": {
        "id": "o7qW-20A8EHT"
      }
    },
    {
      "cell_type": "code",
      "source": [
        "#list of dates from start to end to map over\n",
        "start = \"2017-05-01\"\n",
        "end = \"2017-05-31\"\n",
        "diff = ee.Date(end).difference(ee.Date(start), \"day\") ## get the difference between the start and end dates\n",
        "\n",
        "def addDay(day):\n",
        "  return ee.Date(start).advance(day, \"day\") ## this function just adds one day to the \n",
        "\n",
        "listdates = ee.List.sequence(0,diff).map(addDay)\n",
        "listdates.getInfo()"
      ],
      "metadata": {
        "id": "rQSjshlOfZ3C",
        "colab": {
          "base_uri": "https://localhost:8080/"
        },
        "outputId": "50c45561-6eac-48a3-bf94-70b4204ee889"
      },
      "execution_count": null,
      "outputs": [
        {
          "output_type": "execute_result",
          "data": {
            "text/plain": [
              "[{'type': 'Date', 'value': 1493596800000},\n",
              " {'type': 'Date', 'value': 1493683200000},\n",
              " {'type': 'Date', 'value': 1493769600000},\n",
              " {'type': 'Date', 'value': 1493856000000},\n",
              " {'type': 'Date', 'value': 1493942400000},\n",
              " {'type': 'Date', 'value': 1494028800000},\n",
              " {'type': 'Date', 'value': 1494115200000},\n",
              " {'type': 'Date', 'value': 1494201600000},\n",
              " {'type': 'Date', 'value': 1494288000000},\n",
              " {'type': 'Date', 'value': 1494374400000},\n",
              " {'type': 'Date', 'value': 1494460800000},\n",
              " {'type': 'Date', 'value': 1494547200000},\n",
              " {'type': 'Date', 'value': 1494633600000},\n",
              " {'type': 'Date', 'value': 1494720000000},\n",
              " {'type': 'Date', 'value': 1494806400000},\n",
              " {'type': 'Date', 'value': 1494892800000},\n",
              " {'type': 'Date', 'value': 1494979200000},\n",
              " {'type': 'Date', 'value': 1495065600000},\n",
              " {'type': 'Date', 'value': 1495152000000},\n",
              " {'type': 'Date', 'value': 1495238400000},\n",
              " {'type': 'Date', 'value': 1495324800000},\n",
              " {'type': 'Date', 'value': 1495411200000},\n",
              " {'type': 'Date', 'value': 1495497600000},\n",
              " {'type': 'Date', 'value': 1495584000000},\n",
              " {'type': 'Date', 'value': 1495670400000},\n",
              " {'type': 'Date', 'value': 1495756800000},\n",
              " {'type': 'Date', 'value': 1495843200000},\n",
              " {'type': 'Date', 'value': 1495929600000},\n",
              " {'type': 'Date', 'value': 1496016000000},\n",
              " {'type': 'Date', 'value': 1496102400000},\n",
              " {'type': 'Date', 'value': 1496188800000}]"
            ]
          },
          "metadata": {},
          "execution_count": 4
        }
      ]
    },
    {
      "cell_type": "markdown",
      "source": [
        "As you can see above, printing out the list of dates using getInfo() is not very informative since the dates are formatted as unix/epoch time. This section reformats those into a format that is easier to interpret. This is not necessary for aggregating the data but is a nice way to check that the date list function worked as intended."
      ],
      "metadata": {
        "id": "WuqG70Mg9AaR"
      }
    },
    {
      "cell_type": "code",
      "source": [
        "#reformat dates\n",
        "\n",
        "def dateForm(date):\n",
        "  return ee.Date(date).format(\"YYYY-MM-dd\")\n",
        "  \n",
        "ymdDates = listdates.map(dateForm)\n",
        "ymdDates.getInfo()"
      ],
      "metadata": {
        "id": "CqdQ0n0Gg6-i",
        "colab": {
          "base_uri": "https://localhost:8080/"
        },
        "outputId": "3e9b685a-108f-43b9-dd14-8863fb93409a"
      },
      "execution_count": null,
      "outputs": [
        {
          "output_type": "execute_result",
          "data": {
            "text/plain": [
              "['2017-05-01',\n",
              " '2017-05-02',\n",
              " '2017-05-03',\n",
              " '2017-05-04',\n",
              " '2017-05-05',\n",
              " '2017-05-06',\n",
              " '2017-05-07',\n",
              " '2017-05-08',\n",
              " '2017-05-09',\n",
              " '2017-05-10',\n",
              " '2017-05-11',\n",
              " '2017-05-12',\n",
              " '2017-05-13',\n",
              " '2017-05-14',\n",
              " '2017-05-15',\n",
              " '2017-05-16',\n",
              " '2017-05-17',\n",
              " '2017-05-18',\n",
              " '2017-05-19',\n",
              " '2017-05-20',\n",
              " '2017-05-21',\n",
              " '2017-05-22',\n",
              " '2017-05-23',\n",
              " '2017-05-24',\n",
              " '2017-05-25',\n",
              " '2017-05-26',\n",
              " '2017-05-27',\n",
              " '2017-05-28',\n",
              " '2017-05-29',\n",
              " '2017-05-30',\n",
              " '2017-05-31']"
            ]
          },
          "metadata": {},
          "execution_count": 5
        }
      ]
    },
    {
      "cell_type": "markdown",
      "source": [
        "The next section is where all the computation occurs. It starts by defining the function that will do all the work of aggregating the hourly climate variables to daily averages. So for each day, the function returns an image that is the daily average of whichever climate variable we choose, in this case \"temperature\".\n",
        "\n",
        "Once the function is defined, it is mapped over the list of days we created and the output is a collection of images, one for each day in our list."
      ],
      "metadata": {
        "id": "Uy6GK4cd9poo"
      }
    },
    {
      "cell_type": "code",
      "source": [
        "def meanDaily(day):\n",
        "  return ee.ImageCollection(nldas).select(\"temperature\").filter(ee.Filter.date(ee.Date(day), ee.Date(day).advance(1, \"day\"))).mean().set({\"system:time_start\": day})\n",
        "\n",
        "temperature = ee.ImageCollection(ymdDates.map(meanDaily))\n",
        "\n",
        "temperature.size().getInfo()"
      ],
      "metadata": {
        "id": "PciPmUODhc_E",
        "colab": {
          "base_uri": "https://localhost:8080/"
        },
        "outputId": "93cb9a1f-919a-4585-9b87-67e4bbb218eb"
      },
      "execution_count": null,
      "outputs": [
        {
          "output_type": "execute_result",
          "data": {
            "text/plain": [
              "31"
            ]
          },
          "metadata": {},
          "execution_count": 6
        }
      ]
    },
    {
      "cell_type": "markdown",
      "source": [
        "We can use folium to visualze the result. This chunk adds the first image in our collection to the map. Average Daily temperature for May 1, 2017."
      ],
      "metadata": {
        "id": "0ILJ0Ti4-9l8"
      }
    },
    {
      "cell_type": "code",
      "metadata": {
        "id": "VIiyf6azf4mU",
        "colab": {
          "base_uri": "https://localhost:8080/",
          "height": 763
        },
        "outputId": "386f5559-33f6-4f65-935d-0fb2873f466c"
      },
      "source": [
        "# Import the Folium library.\n",
        "import folium\n",
        "\n",
        "# Define a method for displaying Earth Engine image tiles to folium map.\n",
        "def add_ee_layer(self, ee_image_object, vis_params, name):\n",
        "  map_id_dict = ee.Image(ee_image_object).getMapId(vis_params)\n",
        "  folium.raster_layers.TileLayer(\n",
        "    tiles = map_id_dict['tile_fetcher'].url_format,\n",
        "    attr = 'Map Data &copy; <a href=\"https://earthengine.google.com/\">Google Earth Engine</a>',\n",
        "    name = name,\n",
        "    overlay = True,\n",
        "    control = True\n",
        "  ).add_to(self)\n",
        "\n",
        "# Add EE drawing method to folium.\n",
        "folium.Map.add_ee_layer = add_ee_layer\n",
        "\n",
        "# Set visualization parameters.\n",
        "vis_params = {\n",
        "  'min': -5.0,\n",
        "  'max': 40.0,\n",
        "  'palette': ['3d2bd8', '4e86da', '62c7d8', '91ed90', 'e4f178', 'ed6a4c'],\n",
        "};\n",
        "\n",
        "# Create a folium map object.\n",
        "my_map = folium.Map(location=[30, -90], zoom_start=4)\n",
        "\n",
        "# Add the elevation model to the map object.\n",
        "my_map.add_ee_layer(temperature.first(), vis_params, 'Mean Daily Temperature - May 1 2017 - NLDAS')\n",
        "\n",
        "# Add a layer control panel to the map.\n",
        "my_map.add_child(folium.LayerControl())\n",
        "\n",
        "# Display the map.\n",
        "display(my_map)"
      ],
      "execution_count": null,
      "outputs": [
        {
          "output_type": "display_data",
          "data": {
            "text/html": [
              "<div style=\"width:100%;\"><div style=\"position:relative;width:100%;height:0;padding-bottom:60%;\"><span style=\"color:#565656\">Make this Notebook Trusted to load map: File -> Trust Notebook</span><iframe src=\"about:blank\" style=\"position:absolute;width:100%;height:100%;left:0;top:0;border:none !important;\" data-html=%3C%21DOCTYPE%20html%3E%0A%3Chead%3E%20%20%20%20%0A%20%20%20%20%3Cmeta%20http-equiv%3D%22content-type%22%20content%3D%22text/html%3B%20charset%3DUTF-8%22%20/%3E%0A%20%20%20%20%3Cscript%3EL_PREFER_CANVAS%3Dfalse%3B%20L_NO_TOUCH%3Dfalse%3B%20L_DISABLE_3D%3Dfalse%3B%3C/script%3E%0A%20%20%20%20%3Cscript%20src%3D%22https%3A//cdn.jsdelivr.net/npm/leaflet%401.4.0/dist/leaflet.js%22%3E%3C/script%3E%0A%20%20%20%20%3Cscript%20src%3D%22https%3A//code.jquery.com/jquery-1.12.4.min.js%22%3E%3C/script%3E%0A%20%20%20%20%3Cscript%20src%3D%22https%3A//maxcdn.bootstrapcdn.com/bootstrap/3.2.0/js/bootstrap.min.js%22%3E%3C/script%3E%0A%20%20%20%20%3Cscript%20src%3D%22https%3A//cdnjs.cloudflare.com/ajax/libs/Leaflet.awesome-markers/2.0.2/leaflet.awesome-markers.js%22%3E%3C/script%3E%0A%20%20%20%20%3Clink%20rel%3D%22stylesheet%22%20href%3D%22https%3A//cdn.jsdelivr.net/npm/leaflet%401.4.0/dist/leaflet.css%22/%3E%0A%20%20%20%20%3Clink%20rel%3D%22stylesheet%22%20href%3D%22https%3A//maxcdn.bootstrapcdn.com/bootstrap/3.2.0/css/bootstrap.min.css%22/%3E%0A%20%20%20%20%3Clink%20rel%3D%22stylesheet%22%20href%3D%22https%3A//maxcdn.bootstrapcdn.com/bootstrap/3.2.0/css/bootstrap-theme.min.css%22/%3E%0A%20%20%20%20%3Clink%20rel%3D%22stylesheet%22%20href%3D%22https%3A//maxcdn.bootstrapcdn.com/font-awesome/4.6.3/css/font-awesome.min.css%22/%3E%0A%20%20%20%20%3Clink%20rel%3D%22stylesheet%22%20href%3D%22https%3A//cdnjs.cloudflare.com/ajax/libs/Leaflet.awesome-markers/2.0.2/leaflet.awesome-markers.css%22/%3E%0A%20%20%20%20%3Clink%20rel%3D%22stylesheet%22%20href%3D%22https%3A//rawcdn.githack.com/python-visualization/folium/master/folium/templates/leaflet.awesome.rotate.css%22/%3E%0A%20%20%20%20%3Cstyle%3Ehtml%2C%20body%20%7Bwidth%3A%20100%25%3Bheight%3A%20100%25%3Bmargin%3A%200%3Bpadding%3A%200%3B%7D%3C/style%3E%0A%20%20%20%20%3Cstyle%3E%23map%20%7Bposition%3Aabsolute%3Btop%3A0%3Bbottom%3A0%3Bright%3A0%3Bleft%3A0%3B%7D%3C/style%3E%0A%20%20%20%20%0A%20%20%20%20%3Cmeta%20name%3D%22viewport%22%20content%3D%22width%3Ddevice-width%2C%0A%20%20%20%20%20%20%20%20initial-scale%3D1.0%2C%20maximum-scale%3D1.0%2C%20user-scalable%3Dno%22%20/%3E%0A%20%20%20%20%3Cstyle%3E%23map_a9287921bffb4525a27751a0d0211786%20%7B%0A%20%20%20%20%20%20%20%20position%3A%20relative%3B%0A%20%20%20%20%20%20%20%20width%3A%20100.0%25%3B%0A%20%20%20%20%20%20%20%20height%3A%20100.0%25%3B%0A%20%20%20%20%20%20%20%20left%3A%200.0%25%3B%0A%20%20%20%20%20%20%20%20top%3A%200.0%25%3B%0A%20%20%20%20%20%20%20%20%7D%0A%20%20%20%20%3C/style%3E%0A%3C/head%3E%0A%3Cbody%3E%20%20%20%20%0A%20%20%20%20%0A%20%20%20%20%3Cdiv%20class%3D%22folium-map%22%20id%3D%22map_a9287921bffb4525a27751a0d0211786%22%20%3E%3C/div%3E%0A%3C/body%3E%0A%3Cscript%3E%20%20%20%20%0A%20%20%20%20%0A%20%20%20%20%0A%20%20%20%20%20%20%20%20var%20bounds%20%3D%20null%3B%0A%20%20%20%20%0A%0A%20%20%20%20var%20map_a9287921bffb4525a27751a0d0211786%20%3D%20L.map%28%0A%20%20%20%20%20%20%20%20%27map_a9287921bffb4525a27751a0d0211786%27%2C%20%7B%0A%20%20%20%20%20%20%20%20center%3A%20%5B30%2C%20-90%5D%2C%0A%20%20%20%20%20%20%20%20zoom%3A%204%2C%0A%20%20%20%20%20%20%20%20maxBounds%3A%20bounds%2C%0A%20%20%20%20%20%20%20%20layers%3A%20%5B%5D%2C%0A%20%20%20%20%20%20%20%20worldCopyJump%3A%20false%2C%0A%20%20%20%20%20%20%20%20crs%3A%20L.CRS.EPSG3857%2C%0A%20%20%20%20%20%20%20%20zoomControl%3A%20true%2C%0A%20%20%20%20%20%20%20%20%7D%29%3B%0A%0A%0A%20%20%20%20%0A%20%20%20%20var%20tile_layer_0f2dc5a291cd4c74ac1eedf04f6ae17a%20%3D%20L.tileLayer%28%0A%20%20%20%20%20%20%20%20%27https%3A//%7Bs%7D.tile.openstreetmap.org/%7Bz%7D/%7Bx%7D/%7By%7D.png%27%2C%0A%20%20%20%20%20%20%20%20%7B%0A%20%20%20%20%20%20%20%20%22attribution%22%3A%20null%2C%0A%20%20%20%20%20%20%20%20%22detectRetina%22%3A%20false%2C%0A%20%20%20%20%20%20%20%20%22maxNativeZoom%22%3A%2018%2C%0A%20%20%20%20%20%20%20%20%22maxZoom%22%3A%2018%2C%0A%20%20%20%20%20%20%20%20%22minZoom%22%3A%200%2C%0A%20%20%20%20%20%20%20%20%22noWrap%22%3A%20false%2C%0A%20%20%20%20%20%20%20%20%22opacity%22%3A%201%2C%0A%20%20%20%20%20%20%20%20%22subdomains%22%3A%20%22abc%22%2C%0A%20%20%20%20%20%20%20%20%22tms%22%3A%20false%0A%7D%29.addTo%28map_a9287921bffb4525a27751a0d0211786%29%3B%0A%20%20%20%20var%20tile_layer_ee93bfcd093e45c687848d07ca286223%20%3D%20L.tileLayer%28%0A%20%20%20%20%20%20%20%20%27https%3A//earthengine.googleapis.com/v1alpha/projects/earthengine-legacy/maps/44b7656e420b0b1d224d8c048575d69b-a941c5ed92561fb71f936f5f5b3d1d74/tiles/%7Bz%7D/%7Bx%7D/%7By%7D%27%2C%0A%20%20%20%20%20%20%20%20%7B%0A%20%20%20%20%20%20%20%20%22attribution%22%3A%20%22Map%20Data%20%26copy%3B%20%3Ca%20href%3D%5C%22https%3A//earthengine.google.com/%5C%22%3EGoogle%20Earth%20Engine%3C/a%3E%22%2C%0A%20%20%20%20%20%20%20%20%22detectRetina%22%3A%20false%2C%0A%20%20%20%20%20%20%20%20%22maxNativeZoom%22%3A%2018%2C%0A%20%20%20%20%20%20%20%20%22maxZoom%22%3A%2018%2C%0A%20%20%20%20%20%20%20%20%22minZoom%22%3A%200%2C%0A%20%20%20%20%20%20%20%20%22noWrap%22%3A%20false%2C%0A%20%20%20%20%20%20%20%20%22opacity%22%3A%201%2C%0A%20%20%20%20%20%20%20%20%22subdomains%22%3A%20%22abc%22%2C%0A%20%20%20%20%20%20%20%20%22tms%22%3A%20false%0A%7D%29.addTo%28map_a9287921bffb4525a27751a0d0211786%29%3B%0A%20%20%20%20%0A%20%20%20%20%20%20%20%20%20%20%20%20var%20layer_control_271e381d3e2c4641943bdc2b993111b3%20%3D%20%7B%0A%20%20%20%20%20%20%20%20%20%20%20%20%20%20%20%20base_layers%20%3A%20%7B%20%22openstreetmap%22%20%3A%20tile_layer_0f2dc5a291cd4c74ac1eedf04f6ae17a%2C%20%7D%2C%0A%20%20%20%20%20%20%20%20%20%20%20%20%20%20%20%20overlays%20%3A%20%7B%20%22Mean%20Daily%20Temperature%20-%20May%201%202017%20-%20NLDAS%22%20%3A%20tile_layer_ee93bfcd093e45c687848d07ca286223%2C%20%7D%0A%20%20%20%20%20%20%20%20%20%20%20%20%20%20%20%20%7D%3B%0A%20%20%20%20%20%20%20%20%20%20%20%20L.control.layers%28%0A%20%20%20%20%20%20%20%20%20%20%20%20%20%20%20%20layer_control_271e381d3e2c4641943bdc2b993111b3.base_layers%2C%0A%20%20%20%20%20%20%20%20%20%20%20%20%20%20%20%20layer_control_271e381d3e2c4641943bdc2b993111b3.overlays%2C%0A%20%20%20%20%20%20%20%20%20%20%20%20%20%20%20%20%7Bposition%3A%20%27topright%27%2C%0A%20%20%20%20%20%20%20%20%20%20%20%20%20%20%20%20%20collapsed%3A%20true%2C%0A%20%20%20%20%20%20%20%20%20%20%20%20%20%20%20%20%20autoZIndex%3A%20true%0A%20%20%20%20%20%20%20%20%20%20%20%20%20%20%20%20%7D%29.addTo%28map_a9287921bffb4525a27751a0d0211786%29%3B%0A%20%20%20%20%20%20%20%20%20%20%20%20%0A%20%20%20%20%20%20%20%20%0A%3C/script%3E onload=\"this.contentDocument.open();this.contentDocument.write(    decodeURIComponent(this.getAttribute('data-html')));this.contentDocument.close();\" allowfullscreen webkitallowfullscreen mozallowfullscreen></iframe></div></div>"
            ],
            "text/plain": [
              "<folium.folium.Map at 0x7f7c4d4ac310>"
            ]
          },
          "metadata": {}
        }
      ]
    },
    {
      "cell_type": "markdown",
      "source": [
        "### DAYMET data -- daily to monthly\n",
        "\n",
        "In this example, we will take the raw daily data frm DAYMET and aggregate it for each month."
      ],
      "metadata": {
        "id": "YC2gsyhpKDSt"
      }
    },
    {
      "cell_type": "code",
      "source": [
        "# point to the DAYMET image collection in GEE and filter it to the time period of interest\n",
        "start = \"2017-01-01\"\n",
        "end = \"2018-01-01\"\n",
        "daymet = ee.ImageCollection('NASA/ORNL/DAYMET_V4').filter(ee.Filter.date(start,end))\n",
        "\n",
        "# creat a list of the bandnames in the first image in the collection\n",
        "bn = daymet.first().bandNames()\n",
        "\n",
        "# use getInfo() to pull the list of bandnames from the GEE backend to our notebook\n",
        "bn.getInfo()"
      ],
      "metadata": {
        "colab": {
          "base_uri": "https://localhost:8080/"
        },
        "id": "iEXs6yWeKfc8",
        "outputId": "55eafa10-38a8-4ca8-9c23-e69334d76239"
      },
      "execution_count": null,
      "outputs": [
        {
          "output_type": "execute_result",
          "data": {
            "text/plain": [
              "['dayl', 'prcp', 'srad', 'swe', 'tmax', 'tmin', 'vp']"
            ]
          },
          "metadata": {},
          "execution_count": 8
        }
      ]
    },
    {
      "cell_type": "markdown",
      "source": [
        "Because in this example, we are aggregating the daily data for each month in the range, we need a list of months to map our function over. Since we are using a single year as our time period, we can generate a list of numbers from 1-12 for each month in the year."
      ],
      "metadata": {
        "id": "Rfki9OsLLoG_"
      }
    },
    {
      "cell_type": "code",
      "source": [
        "months = ee.List.sequence(1,12);"
      ],
      "metadata": {
        "id": "L766S8bsMJA2"
      },
      "execution_count": null,
      "outputs": []
    },
    {
      "cell_type": "markdown",
      "source": [
        "Next we need to write the function that will aggregate the data for us."
      ],
      "metadata": {
        "id": "AgCY98MDMRpt"
      }
    },
    {
      "cell_type": "code",
      "source": [
        "def byMonth(m):\n",
        "  means = daymet.filter(ee.Filter.calendarRange(m, m, 'month')).select(['tmin', 'tmax']).mean() # aggregate the temp bands by mean\n",
        "  sums = daymet.filter(ee.Filter.calendarRange(m, m, 'month')).select('prcp').sum() # aggregate the precip band to get monthly total\n",
        "  return means.addBands(sums).set('month',m)\n",
        "\n",
        "daymetMonth = ee.ImageCollection(months.map(byMonth)) # map the function over every item in our month list\n",
        "\n",
        "print(daymetMonth.size().getInfo()) # should be 12 images in the collection"
      ],
      "metadata": {
        "colab": {
          "base_uri": "https://localhost:8080/"
        },
        "id": "ZxsrOwtIMWX1",
        "outputId": "c6079b72-400e-44e3-a90c-b543f410e415"
      },
      "execution_count": null,
      "outputs": [
        {
          "output_type": "stream",
          "name": "stdout",
          "text": [
            "12\n"
          ]
        }
      ]
    },
    {
      "cell_type": "markdown",
      "source": [
        "Now we can display the image on a map. In this case, we choose to display 3 images for May (month = 5):\n",
        "\n",
        "\n",
        "1.   Total Precipitation\n",
        "2.   Minimum Temperature\n",
        "3.   Maximum Temperature\n",
        "\n",
        "\n",
        "\n"
      ],
      "metadata": {
        "id": "7qw6ZhNYkIV1"
      }
    },
    {
      "cell_type": "code",
      "metadata": {
        "id": "bM8xZKNuNsDk",
        "colab": {
          "base_uri": "https://localhost:8080/",
          "height": 763
        },
        "outputId": "bb3a9797-90c9-47a7-c67d-86a7e44e18d0"
      },
      "source": [
        "# Set visualization parameters for precip\n",
        "precVis = {\n",
        "  'min': 0,\n",
        "  'max': 500,\n",
        "  'palette': ['ed6a4c','e4f178','91ed90','62c7d8','4e86da','3d2bd8'],\n",
        "};\n",
        "\n",
        "# Set visualization parameters for temp\n",
        "tempVis = {\n",
        "  'min': -5.0,\n",
        "  'max': 25.0,\n",
        "  'palette': ['3d2bd8', '4e86da', '62c7d8', '91ed90', 'e4f178', 'ed6a4c'],\n",
        "};\n",
        "\n",
        "# Create a folium map object.\n",
        "daymetMap = folium.Map(location=[30, -90], zoom_start=4)\n",
        "\n",
        "# choose image to display\n",
        "prcpTot = daymetMonth.filter(ee.Filter.eq('month', 5)).select('prcp').first()\n",
        "tmpMin = daymetMonth.filter(ee.Filter.eq('month', 5)).select('tmin').first()\n",
        "tmpMax = daymetMonth.filter(ee.Filter.eq('month', 5)).select('tmax').first()\n",
        "\n",
        "# Add the elevation model to the map object.\n",
        "daymetMap.add_ee_layer(prcpTot, precVis, 'Total Precip - May 2017 - DAYMET')\n",
        "daymetMap.add_ee_layer(tmpMin, tempVis, 'Minimum Temperature - May 2017 - DAYMET')\n",
        "daymetMap.add_ee_layer(tmpMax, tempVis, 'Maximum Temperature - May 2017 - DAYMET')\n",
        "\n",
        "# Add a layer control panel to the map.\n",
        "daymetMap.add_child(folium.LayerControl())\n",
        "\n",
        "# Display the map.\n",
        "display(daymetMap)"
      ],
      "execution_count": null,
      "outputs": [
        {
          "output_type": "display_data",
          "data": {
            "text/html": [
              "<div style=\"width:100%;\"><div style=\"position:relative;width:100%;height:0;padding-bottom:60%;\"><span style=\"color:#565656\">Make this Notebook Trusted to load map: File -> Trust Notebook</span><iframe src=\"about:blank\" style=\"position:absolute;width:100%;height:100%;left:0;top:0;border:none !important;\" data-html=%3C%21DOCTYPE%20html%3E%0A%3Chead%3E%20%20%20%20%0A%20%20%20%20%3Cmeta%20http-equiv%3D%22content-type%22%20content%3D%22text/html%3B%20charset%3DUTF-8%22%20/%3E%0A%20%20%20%20%3Cscript%3EL_PREFER_CANVAS%3Dfalse%3B%20L_NO_TOUCH%3Dfalse%3B%20L_DISABLE_3D%3Dfalse%3B%3C/script%3E%0A%20%20%20%20%3Cscript%20src%3D%22https%3A//cdn.jsdelivr.net/npm/leaflet%401.4.0/dist/leaflet.js%22%3E%3C/script%3E%0A%20%20%20%20%3Cscript%20src%3D%22https%3A//code.jquery.com/jquery-1.12.4.min.js%22%3E%3C/script%3E%0A%20%20%20%20%3Cscript%20src%3D%22https%3A//maxcdn.bootstrapcdn.com/bootstrap/3.2.0/js/bootstrap.min.js%22%3E%3C/script%3E%0A%20%20%20%20%3Cscript%20src%3D%22https%3A//cdnjs.cloudflare.com/ajax/libs/Leaflet.awesome-markers/2.0.2/leaflet.awesome-markers.js%22%3E%3C/script%3E%0A%20%20%20%20%3Clink%20rel%3D%22stylesheet%22%20href%3D%22https%3A//cdn.jsdelivr.net/npm/leaflet%401.4.0/dist/leaflet.css%22/%3E%0A%20%20%20%20%3Clink%20rel%3D%22stylesheet%22%20href%3D%22https%3A//maxcdn.bootstrapcdn.com/bootstrap/3.2.0/css/bootstrap.min.css%22/%3E%0A%20%20%20%20%3Clink%20rel%3D%22stylesheet%22%20href%3D%22https%3A//maxcdn.bootstrapcdn.com/bootstrap/3.2.0/css/bootstrap-theme.min.css%22/%3E%0A%20%20%20%20%3Clink%20rel%3D%22stylesheet%22%20href%3D%22https%3A//maxcdn.bootstrapcdn.com/font-awesome/4.6.3/css/font-awesome.min.css%22/%3E%0A%20%20%20%20%3Clink%20rel%3D%22stylesheet%22%20href%3D%22https%3A//cdnjs.cloudflare.com/ajax/libs/Leaflet.awesome-markers/2.0.2/leaflet.awesome-markers.css%22/%3E%0A%20%20%20%20%3Clink%20rel%3D%22stylesheet%22%20href%3D%22https%3A//rawcdn.githack.com/python-visualization/folium/master/folium/templates/leaflet.awesome.rotate.css%22/%3E%0A%20%20%20%20%3Cstyle%3Ehtml%2C%20body%20%7Bwidth%3A%20100%25%3Bheight%3A%20100%25%3Bmargin%3A%200%3Bpadding%3A%200%3B%7D%3C/style%3E%0A%20%20%20%20%3Cstyle%3E%23map%20%7Bposition%3Aabsolute%3Btop%3A0%3Bbottom%3A0%3Bright%3A0%3Bleft%3A0%3B%7D%3C/style%3E%0A%20%20%20%20%0A%20%20%20%20%3Cmeta%20name%3D%22viewport%22%20content%3D%22width%3Ddevice-width%2C%0A%20%20%20%20%20%20%20%20initial-scale%3D1.0%2C%20maximum-scale%3D1.0%2C%20user-scalable%3Dno%22%20/%3E%0A%20%20%20%20%3Cstyle%3E%23map_d7c3b18aa20c48189b7100eaf7c75206%20%7B%0A%20%20%20%20%20%20%20%20position%3A%20relative%3B%0A%20%20%20%20%20%20%20%20width%3A%20100.0%25%3B%0A%20%20%20%20%20%20%20%20height%3A%20100.0%25%3B%0A%20%20%20%20%20%20%20%20left%3A%200.0%25%3B%0A%20%20%20%20%20%20%20%20top%3A%200.0%25%3B%0A%20%20%20%20%20%20%20%20%7D%0A%20%20%20%20%3C/style%3E%0A%3C/head%3E%0A%3Cbody%3E%20%20%20%20%0A%20%20%20%20%0A%20%20%20%20%3Cdiv%20class%3D%22folium-map%22%20id%3D%22map_d7c3b18aa20c48189b7100eaf7c75206%22%20%3E%3C/div%3E%0A%3C/body%3E%0A%3Cscript%3E%20%20%20%20%0A%20%20%20%20%0A%20%20%20%20%0A%20%20%20%20%20%20%20%20var%20bounds%20%3D%20null%3B%0A%20%20%20%20%0A%0A%20%20%20%20var%20map_d7c3b18aa20c48189b7100eaf7c75206%20%3D%20L.map%28%0A%20%20%20%20%20%20%20%20%27map_d7c3b18aa20c48189b7100eaf7c75206%27%2C%20%7B%0A%20%20%20%20%20%20%20%20center%3A%20%5B30%2C%20-90%5D%2C%0A%20%20%20%20%20%20%20%20zoom%3A%204%2C%0A%20%20%20%20%20%20%20%20maxBounds%3A%20bounds%2C%0A%20%20%20%20%20%20%20%20layers%3A%20%5B%5D%2C%0A%20%20%20%20%20%20%20%20worldCopyJump%3A%20false%2C%0A%20%20%20%20%20%20%20%20crs%3A%20L.CRS.EPSG3857%2C%0A%20%20%20%20%20%20%20%20zoomControl%3A%20true%2C%0A%20%20%20%20%20%20%20%20%7D%29%3B%0A%0A%0A%20%20%20%20%0A%20%20%20%20var%20tile_layer_c02ab64eec1547b1867eca1964791886%20%3D%20L.tileLayer%28%0A%20%20%20%20%20%20%20%20%27https%3A//%7Bs%7D.tile.openstreetmap.org/%7Bz%7D/%7Bx%7D/%7By%7D.png%27%2C%0A%20%20%20%20%20%20%20%20%7B%0A%20%20%20%20%20%20%20%20%22attribution%22%3A%20null%2C%0A%20%20%20%20%20%20%20%20%22detectRetina%22%3A%20false%2C%0A%20%20%20%20%20%20%20%20%22maxNativeZoom%22%3A%2018%2C%0A%20%20%20%20%20%20%20%20%22maxZoom%22%3A%2018%2C%0A%20%20%20%20%20%20%20%20%22minZoom%22%3A%200%2C%0A%20%20%20%20%20%20%20%20%22noWrap%22%3A%20false%2C%0A%20%20%20%20%20%20%20%20%22opacity%22%3A%201%2C%0A%20%20%20%20%20%20%20%20%22subdomains%22%3A%20%22abc%22%2C%0A%20%20%20%20%20%20%20%20%22tms%22%3A%20false%0A%7D%29.addTo%28map_d7c3b18aa20c48189b7100eaf7c75206%29%3B%0A%20%20%20%20var%20tile_layer_04b990f6b9184e8596f093e1186772c2%20%3D%20L.tileLayer%28%0A%20%20%20%20%20%20%20%20%27https%3A//earthengine.googleapis.com/v1alpha/projects/earthengine-legacy/maps/f6db3d5c26595de5dd5e8a40b31c78da-bf5e4dfd45ca775084f45db944455fb1/tiles/%7Bz%7D/%7Bx%7D/%7By%7D%27%2C%0A%20%20%20%20%20%20%20%20%7B%0A%20%20%20%20%20%20%20%20%22attribution%22%3A%20%22Map%20Data%20%26copy%3B%20%3Ca%20href%3D%5C%22https%3A//earthengine.google.com/%5C%22%3EGoogle%20Earth%20Engine%3C/a%3E%22%2C%0A%20%20%20%20%20%20%20%20%22detectRetina%22%3A%20false%2C%0A%20%20%20%20%20%20%20%20%22maxNativeZoom%22%3A%2018%2C%0A%20%20%20%20%20%20%20%20%22maxZoom%22%3A%2018%2C%0A%20%20%20%20%20%20%20%20%22minZoom%22%3A%200%2C%0A%20%20%20%20%20%20%20%20%22noWrap%22%3A%20false%2C%0A%20%20%20%20%20%20%20%20%22opacity%22%3A%201%2C%0A%20%20%20%20%20%20%20%20%22subdomains%22%3A%20%22abc%22%2C%0A%20%20%20%20%20%20%20%20%22tms%22%3A%20false%0A%7D%29.addTo%28map_d7c3b18aa20c48189b7100eaf7c75206%29%3B%0A%20%20%20%20var%20tile_layer_e6ca19d0448c4aaf8a9a5c5978038174%20%3D%20L.tileLayer%28%0A%20%20%20%20%20%20%20%20%27https%3A//earthengine.googleapis.com/v1alpha/projects/earthengine-legacy/maps/01a58aa89684d4ba4ef3594e53569c88-f8be46c075c568dccf3ecf0410439a2c/tiles/%7Bz%7D/%7Bx%7D/%7By%7D%27%2C%0A%20%20%20%20%20%20%20%20%7B%0A%20%20%20%20%20%20%20%20%22attribution%22%3A%20%22Map%20Data%20%26copy%3B%20%3Ca%20href%3D%5C%22https%3A//earthengine.google.com/%5C%22%3EGoogle%20Earth%20Engine%3C/a%3E%22%2C%0A%20%20%20%20%20%20%20%20%22detectRetina%22%3A%20false%2C%0A%20%20%20%20%20%20%20%20%22maxNativeZoom%22%3A%2018%2C%0A%20%20%20%20%20%20%20%20%22maxZoom%22%3A%2018%2C%0A%20%20%20%20%20%20%20%20%22minZoom%22%3A%200%2C%0A%20%20%20%20%20%20%20%20%22noWrap%22%3A%20false%2C%0A%20%20%20%20%20%20%20%20%22opacity%22%3A%201%2C%0A%20%20%20%20%20%20%20%20%22subdomains%22%3A%20%22abc%22%2C%0A%20%20%20%20%20%20%20%20%22tms%22%3A%20false%0A%7D%29.addTo%28map_d7c3b18aa20c48189b7100eaf7c75206%29%3B%0A%20%20%20%20var%20tile_layer_70b79a6a66d94723b10c95138c37043f%20%3D%20L.tileLayer%28%0A%20%20%20%20%20%20%20%20%27https%3A//earthengine.googleapis.com/v1alpha/projects/earthengine-legacy/maps/890f1a4bff84511bf760c66dd205e909-408069092253115ac109bbe96ac1cf6c/tiles/%7Bz%7D/%7Bx%7D/%7By%7D%27%2C%0A%20%20%20%20%20%20%20%20%7B%0A%20%20%20%20%20%20%20%20%22attribution%22%3A%20%22Map%20Data%20%26copy%3B%20%3Ca%20href%3D%5C%22https%3A//earthengine.google.com/%5C%22%3EGoogle%20Earth%20Engine%3C/a%3E%22%2C%0A%20%20%20%20%20%20%20%20%22detectRetina%22%3A%20false%2C%0A%20%20%20%20%20%20%20%20%22maxNativeZoom%22%3A%2018%2C%0A%20%20%20%20%20%20%20%20%22maxZoom%22%3A%2018%2C%0A%20%20%20%20%20%20%20%20%22minZoom%22%3A%200%2C%0A%20%20%20%20%20%20%20%20%22noWrap%22%3A%20false%2C%0A%20%20%20%20%20%20%20%20%22opacity%22%3A%201%2C%0A%20%20%20%20%20%20%20%20%22subdomains%22%3A%20%22abc%22%2C%0A%20%20%20%20%20%20%20%20%22tms%22%3A%20false%0A%7D%29.addTo%28map_d7c3b18aa20c48189b7100eaf7c75206%29%3B%0A%20%20%20%20%0A%20%20%20%20%20%20%20%20%20%20%20%20var%20layer_control_09aff767f07647219a8741d8462ecc16%20%3D%20%7B%0A%20%20%20%20%20%20%20%20%20%20%20%20%20%20%20%20base_layers%20%3A%20%7B%20%22openstreetmap%22%20%3A%20tile_layer_c02ab64eec1547b1867eca1964791886%2C%20%7D%2C%0A%20%20%20%20%20%20%20%20%20%20%20%20%20%20%20%20overlays%20%3A%20%7B%20%22Total%20Precip%20-%20May%202017%20-%20DAYMET%22%20%3A%20tile_layer_04b990f6b9184e8596f093e1186772c2%2C%22Minimum%20Temperature%20-%20May%202017%20-%20DAYMET%22%20%3A%20tile_layer_e6ca19d0448c4aaf8a9a5c5978038174%2C%22Maximum%20Temperature%20-%20May%202017%20-%20DAYMET%22%20%3A%20tile_layer_70b79a6a66d94723b10c95138c37043f%2C%20%7D%0A%20%20%20%20%20%20%20%20%20%20%20%20%20%20%20%20%7D%3B%0A%20%20%20%20%20%20%20%20%20%20%20%20L.control.layers%28%0A%20%20%20%20%20%20%20%20%20%20%20%20%20%20%20%20layer_control_09aff767f07647219a8741d8462ecc16.base_layers%2C%0A%20%20%20%20%20%20%20%20%20%20%20%20%20%20%20%20layer_control_09aff767f07647219a8741d8462ecc16.overlays%2C%0A%20%20%20%20%20%20%20%20%20%20%20%20%20%20%20%20%7Bposition%3A%20%27topright%27%2C%0A%20%20%20%20%20%20%20%20%20%20%20%20%20%20%20%20%20collapsed%3A%20true%2C%0A%20%20%20%20%20%20%20%20%20%20%20%20%20%20%20%20%20autoZIndex%3A%20true%0A%20%20%20%20%20%20%20%20%20%20%20%20%20%20%20%20%7D%29.addTo%28map_d7c3b18aa20c48189b7100eaf7c75206%29%3B%0A%20%20%20%20%20%20%20%20%20%20%20%20%0A%20%20%20%20%20%20%20%20%0A%3C/script%3E onload=\"this.contentDocument.open();this.contentDocument.write(    decodeURIComponent(this.getAttribute('data-html')));this.contentDocument.close();\" allowfullscreen webkitallowfullscreen mozallowfullscreen></iframe></div></div>"
            ],
            "text/plain": [
              "<folium.folium.Map at 0x7f7c4cd06c90>"
            ]
          },
          "metadata": {}
        }
      ]
    },
    {
      "cell_type": "markdown",
      "source": [
        "#### Detecting Extreme Events - DAYMET\n",
        "\n",
        "What if we were interested in detecting abnormal or extreme events, with regard to temperature or precipitation for every pixel? The simplest way would be to just aggregate the daily data using a maximum rather than a mean or a sum. Doing this would resuly in an image collection where each pixel represents the daily maximum of the chosen climate variable for every month. The block below illustrates how you would edit our aggregating function to include the maximum of the tmax parameter (daily high temperature) and precipitation.\n",
        "\n",
        "Because we now have multiple bands with the same name, it is a good idea to rename them. This will help us keep track of which band is which as we aggregate the same band multiple ways."
      ],
      "metadata": {
        "id": "Ves7In1r5lAt"
      }
    },
    {
      "cell_type": "code",
      "source": [
        "def byMonth(m):\n",
        "  means = daymet.filter(ee.Filter.calendarRange(m, m, 'month')).select(['tmin', 'tmax']).mean().rename(['tmin_avg','tmax_avg']) # aggregate the temp bands to get daily average for each month\n",
        "  sums = daymet.filter(ee.Filter.calendarRange(m, m, 'month')).select('prcp').sum().rename('prcp_total') # aggregate the precip bands to get monthly total\n",
        "  max = daymet.filter(ee.Filter.calendarRange(m, m, 'month')).select(['tmax','prcp']).max().rename('tmax_max','prcp_max') # aggregate the temp and precip bands to get daily maximum\n",
        "\n",
        "  return means.addBands(sums).addBands(max).set('month',m)\n",
        "\n",
        "daymetMonth = ee.ImageCollection(months.map(byMonth)) # map the function over every item in our month list\n",
        "\n",
        "print(daymetMonth.size().getInfo()) # should be 12 images in the collection\n",
        "print(daymetMonth.first().bandNames().getInfo())"
      ],
      "metadata": {
        "colab": {
          "base_uri": "https://localhost:8080/"
        },
        "id": "4dLV7YfG5j-g",
        "outputId": "0d3a2613-9962-499e-9202-b68863248f6f"
      },
      "execution_count": null,
      "outputs": [
        {
          "output_type": "stream",
          "name": "stdout",
          "text": [
            "12\n",
            "['tmin_avg', 'tmax_avg', 'prcp_total', 'tmax_max', 'prcp_max']\n"
          ]
        }
      ]
    },
    {
      "cell_type": "markdown",
      "source": [
        "Another idea might be to use the newly created daily max values for each pixel to calculate something else that might indicate an extreme event. The function could be adapted further to include the proportion of the mean represented by the maximum value. For precipitation, if this value were 1, it would mean that the pixel got all of its precipitation for the month on a single day.\n",
        "\n",
        "For temperature, it might make sense to calculate how many degrees above the mean the maximum daily high temperature is for each pixel."
      ],
      "metadata": {
        "id": "MRVv9YzDIq0x"
      }
    },
    {
      "cell_type": "code",
      "source": [
        "def byMonth(m):\n",
        "  means = daymet.filter(ee.Filter.calendarRange(m, m, 'month')).select(['tmin', 'tmax']).mean().rename(['tmin_avg','tmax_avg']) # aggregate the temp bands to get daily average for each month\n",
        "  sums = daymet.filter(ee.Filter.calendarRange(m, m, 'month')).select('prcp').sum().rename('prcp_total') # aggregate the precip bands to get monthly total\n",
        "  max = daymet.filter(ee.Filter.calendarRange(m, m, 'month')).select(['tmax','prcp']).max().rename('tmax_max','prcp_max') # aggregate the temp and precip bands to get daily maximum\n",
        "  extremeTemp = max.select('tmax_max').subtract(means.select('tmax_avg')).rename('temp_dmean')\n",
        "  extremePrec = max.select('prcp_max').divide(sums).rename('prcp_perc_total')\n",
        "\n",
        "  return means.addBands(sums).addBands([extremeTemp, extremePrec]).set('month',m)\n",
        "\n",
        "daymetMonth = ee.ImageCollection(months.map(byMonth)) # map the function over every item in our month list\n",
        "\n",
        "print(daymetMonth.size().getInfo()) # should be 12 images in the collection\n",
        "print(daymetMonth.first().bandNames().getInfo())"
      ],
      "metadata": {
        "colab": {
          "base_uri": "https://localhost:8080/"
        },
        "id": "_wbErPiiJdYx",
        "outputId": "9cf3f8e8-035f-4448-93fb-40858a5168e1"
      },
      "execution_count": null,
      "outputs": [
        {
          "output_type": "stream",
          "name": "stdout",
          "text": [
            "12\n",
            "['tmin_avg', 'tmax_avg', 'prcp_total', 'temp_dmean', 'prcp_perc_total']\n"
          ]
        }
      ]
    },
    {
      "cell_type": "markdown",
      "source": [
        "#Exporting Data\n",
        "\n",
        "Data generated in GEE can be exported in a number of different formats. If you are interested in just the values at certain locations you can export data as a CSV file. In this example, we will demonstrate how to extract a raster image for a given region of interest that can be used as an input in a species distribution model.\n",
        "\n",
        "## Export DAYMET montly data for the western US\n",
        "\n",
        "We will use the 2018 TIGER dataset to define our region of interest. The dataset can be filtered by the name of the state or states of interest. Filtering collections using a list is more efficient than stringing together multiple filters for the same metadata property.\n",
        "\n",
        "We then need to turn those feature (shape + attributes) into just a geometry object (shape outline only). The .bounds() call is not necessary but it creates a box that represents the maximum bounding geometry of the selected states. In this case, that maximum bounding geometry ends up encompassing all of the western states, with partial coverage of ND, SD, NE and TX."
      ],
      "metadata": {
        "id": "GGVB8M7iyy5V"
      }
    },
    {
      "cell_type": "code",
      "source": [
        "tiger = ee.FeatureCollection(\"TIGER/2018/States\")\n",
        "\n",
        "stNames = [\"Montana\",\"California\", \"Washington\",\"Oregon\",\"Colorado\",\"New Mexico\"]\n",
        "\n",
        "roi = tiger.filter(ee.Filter.inList(\"NAME\", stNames)).geometry().bounds()"
      ],
      "metadata": {
        "id": "GGs-ELli1cak"
      },
      "execution_count": null,
      "outputs": []
    },
    {
      "cell_type": "markdown",
      "source": [
        "## Print some info about the image collection\n",
        "\n",
        "As a reminder, our image collection contains 12 images, one for each month of the year in 2017. There are 5 bands in the image representing the variables we computed from the raw daily data and each image in the collection has an identifier (number) for the month in it's metadata."
      ],
      "metadata": {
        "id": "QUhq77Lb7cWS"
      }
    },
    {
      "cell_type": "code",
      "source": [
        "print('size of collection:', daymetMonth.size().getInfo()) # should be 12 images in the collection\n",
        "print('bands in image:',daymetMonth.first().bandNames().getInfo())\n",
        "print('month ids:', daymetMonth.aggregate_array('month').getInfo())"
      ],
      "metadata": {
        "colab": {
          "base_uri": "https://localhost:8080/"
        },
        "id": "MsZ0wNQU33Xu",
        "outputId": "7058b7ce-2fe3-494c-9ae2-3c8bdec9b68f"
      },
      "execution_count": null,
      "outputs": [
        {
          "output_type": "stream",
          "name": "stdout",
          "text": [
            "size of collection: 12\n",
            "bands in image: ['tmin_avg', 'tmax_avg', 'prcp_total', 'temp_dmean', 'prcp_perc_total']\n",
            "month ids: [1, 2, 3, 4, 5, 6, 7, 8, 9, 10, 11, 12]\n"
          ]
        }
      ]
    },
    {
      "cell_type": "markdown",
      "source": [
        "## Select a single image to export\n",
        "\n",
        "Earth engine is set up to export images, not image collections. For smaller collections it is possible to create loops that will export all images in a collection. There is also a module from Rodgrigo Principe that allows users to export image collections: https://github.com/fitoprincipe/geetools-code-editor/wiki/Batch.\n",
        "\n",
        "In this example, we will select an individual image from our collection and export it. Two things to note when selecting an image for export:\n",
        "\n",
        "1.   Even though you may filter the image collection to select just one image, GEE will still interpretted it as an image collection of size 1. The .first() command below translates the collection to a single image.\n",
        "2.   When exporting and image with multiple bands, all bands must be of the same data type. We use .toFloat() below to ensure all bands are converted to float prior to export.\n",
        "\n"
      ],
      "metadata": {
        "id": "NRVRoQaS8II4"
      }
    },
    {
      "cell_type": "code",
      "source": [
        "imageToDownload = daymetMonth.filter(ee.Filter.eq('month',5)).first().toFloat() # select the image for May 2017\n"
      ],
      "metadata": {
        "id": "2bdMM-8m3yGW"
      },
      "execution_count": null,
      "outputs": []
    },
    {
      "cell_type": "markdown",
      "source": [
        "## Export the selected image\n",
        "\n",
        "With the image selected, we can create a task to run. Images can be exported to the drive (associated with your GEE login) like in the example below, to google cloud storage, or as an asset in your GEE account. See this guide for more details on exporting from the code editor: https://developers.google.com/earth-engine/guides/exporting.\n",
        "\n"
      ],
      "metadata": {
        "id": "7LEZ9e3t97La"
      }
    },
    {
      "cell_type": "code",
      "source": [
        "task = ee.batch.Export.image.toDrive(image=imageToDownload, # create task\n",
        "                                     description='daymet_vars_May_2017', # description that will appear in the GEE task manager\n",
        "                                     scale=1000, # native scale of daymet data\n",
        "                                     region=roi, # roi object we defined above\n",
        "                                     fileNamePrefix='2017_05_daymet_westUS', # name of the file in google drive\n",
        "                                     crs='EPSG:4326', # coordinate reference for output image\n",
        "                                     fileFormat='GeoTIFF')\n",
        "task.start() # run the task object"
      ],
      "metadata": {
        "id": "jncdR5q65GAA"
      },
      "execution_count": null,
      "outputs": []
    }
  ]
}